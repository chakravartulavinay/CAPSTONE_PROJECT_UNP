{
  "nbformat": 4,
  "nbformat_minor": 0,
  "metadata": {
    "colab": {
      "provenance": [],
      "authorship_tag": "ABX9TyOeyYJPvuLQtlgRKK2bhSoR",
      "include_colab_link": true
    },
    "kernelspec": {
      "name": "python3",
      "display_name": "Python 3"
    },
    "language_info": {
      "name": "python"
    }
  },
  "cells": [
    {
      "cell_type": "markdown",
      "metadata": {
        "id": "view-in-github",
        "colab_type": "text"
      },
      "source": [
        "<a href=\"https://colab.research.google.com/github/chakravartulavinay/CAPSTONE_PROJECT_UNP/blob/main/vinaypractice.ipynb\" target=\"_parent\"><img src=\"https://colab.research.google.com/assets/colab-badge.svg\" alt=\"Open In Colab\"/></a>"
      ]
    },
    {
      "cell_type": "code",
      "execution_count": null,
      "metadata": {
        "colab": {
          "base_uri": "https://localhost:8080/"
        },
        "id": "Pp6t1SZO0Tnf",
        "outputId": "cc1040ca-6134-4ca0-d496-29e1371bbd67"
      },
      "outputs": [
        {
          "output_type": "stream",
          "name": "stdout",
          "text": [
            "13\n",
            "7\n",
            "30\n",
            "3.3333333333333335\n",
            "1\n",
            "1000\n",
            "3\n"
          ]
        }
      ],
      "source": [
        "# Arithmetic Operators\n",
        "x = 10\n",
        "y = 3\n",
        "\n",
        "addition = x + y\n",
        "subtraction = x - y\n",
        "multiplication = x * y\n",
        "division = x / y\n",
        "modulus = x % y\n",
        "exponentiation = x ** y\n",
        "floor_division = x // y\n",
        "print(addition)\n",
        "print(subtraction)\n",
        "print(multiplication)\n",
        "print(division)\n",
        "print(modulus)\n",
        "print(exponentiation)\n",
        "print(floor_division)"
      ]
    },
    {
      "cell_type": "code",
      "source": [
        "# Comparison Operators\n",
        "a = 5\n",
        "b = 3\n",
        "greater_than = a > b\n",
        "less_than = a < b\n",
        "equal_to = a == b\n",
        "not_equal_to = a != b\n",
        "greater_than_equal_to = a >= b\n",
        "less_than_equal_to = a <= b\n",
        "print(greater_than)\n",
        "print(less_than)\n",
        "print(equal_to)\n",
        "print(not_equal_to)\n",
        "print(greater_than_equal_to)\n",
        "print(less_than_equal_to)"
      ],
      "metadata": {
        "colab": {
          "base_uri": "https://localhost:8080/"
        },
        "id": "SDLUcj0g1Cp1",
        "outputId": "bd2046f7-c156-4949-9c19-d985f4e8dda4"
      },
      "execution_count": null,
      "outputs": [
        {
          "output_type": "stream",
          "name": "stdout",
          "text": [
            "True\n",
            "False\n",
            "False\n",
            "True\n",
            "True\n",
            "False\n"
          ]
        }
      ]
    },
    {
      "cell_type": "code",
      "source": [
        "# Logical Operators\n",
        "p = True\n",
        "q = False\n",
        "\n",
        "logical_and = p and q\n",
        "logical_or = p or q\n",
        "logical_not = not p\n",
        "# print(logical_and)\n",
        "# print(logical_or)\n",
        "print(logical_not)"
      ],
      "metadata": {
        "colab": {
          "base_uri": "https://localhost:8080/"
        },
        "id": "lUNNCFxu1t16",
        "outputId": "bb0379ea-753d-4a66-b289-b93ac417a226"
      },
      "execution_count": null,
      "outputs": [
        {
          "output_type": "stream",
          "name": "stdout",
          "text": [
            "False\n"
          ]
        }
      ]
    },
    {
      "cell_type": "code",
      "source": [
        "# Assignment Operators\n",
        "x = 5\n",
        "# x += 3  # equivalent to x = x + 3\n",
        "# x -= 2  # equivalent to x = x - 2\n",
        "# x *= 4  # equivalent to x = x * 4\n",
        "# x /= 2  # equivalent to x = x / 2\n",
        "# x %= 3  # equivalent to x = x % 3\n",
        "# x //= 2  # equivalent to x = x // 2\n",
        "x **= 3  # equivalent to x = x ** 3\n"
      ],
      "metadata": {
        "id": "C1E-Cbwx2bPk"
      },
      "execution_count": null,
      "outputs": []
    },
    {
      "cell_type": "code",
      "source": [
        "print(x)"
      ],
      "metadata": {
        "colab": {
          "base_uri": "https://localhost:8080/"
        },
        "id": "p_Q4kfCW3485",
        "outputId": "911cf21f-07e3-4c13-af58-c1477c7eb312"
      },
      "execution_count": null,
      "outputs": [
        {
          "output_type": "stream",
          "name": "stdout",
          "text": [
            "125\n"
          ]
        }
      ]
    },
    {
      "cell_type": "code",
      "source": [
        "x=7\n",
        "x+=2\n",
        "print(x)"
      ],
      "metadata": {
        "id": "IxTmvqVR4bbT"
      },
      "execution_count": null,
      "outputs": []
    },
    {
      "cell_type": "code",
      "source": [],
      "metadata": {
        "id": "khtac9DQ5DAl"
      },
      "execution_count": null,
      "outputs": []
    }
  ]
}